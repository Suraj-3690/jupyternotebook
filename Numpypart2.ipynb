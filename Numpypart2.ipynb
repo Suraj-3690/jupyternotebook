{
 "cells": [
  {
   "cell_type": "code",
   "execution_count": 1,
   "id": "20e6d7c4-5d41-44e8-886f-f2716fd04206",
   "metadata": {},
   "outputs": [],
   "source": [
    "import numpy as np"
   ]
  },
  {
   "cell_type": "code",
   "execution_count": 2,
   "id": "2e84b700-a6c0-466c-afc3-bf39c691afec",
   "metadata": {},
   "outputs": [],
   "source": [
    "# Numpy -Array Manipulaion"
   ]
  },
  {
   "cell_type": "code",
   "execution_count": 3,
   "id": "a0955539-8ae5-448f-b421-c01d6c901fc9",
   "metadata": {},
   "outputs": [],
   "source": [
    "arr=np.random.randint(1,10,(3,4))"
   ]
  },
  {
   "cell_type": "code",
   "execution_count": 4,
   "id": "84aa7623-f255-46b8-9def-3ff952326b92",
   "metadata": {},
   "outputs": [
    {
     "data": {
      "text/plain": [
       "array([[2, 9, 7, 1],\n",
       "       [7, 9, 5, 2],\n",
       "       [7, 5, 3, 3]])"
      ]
     },
     "execution_count": 4,
     "metadata": {},
     "output_type": "execute_result"
    }
   ],
   "source": [
    "arr"
   ]
  },
  {
   "cell_type": "code",
   "execution_count": 5,
   "id": "8e77a7e6-8452-4ad0-8ffb-f84ea09bebf8",
   "metadata": {},
   "outputs": [
    {
     "data": {
      "text/plain": [
       "array([[2, 9],\n",
       "       [7, 1],\n",
       "       [7, 9],\n",
       "       [5, 2],\n",
       "       [7, 5],\n",
       "       [3, 3]])"
      ]
     },
     "execution_count": 5,
     "metadata": {},
     "output_type": "execute_result"
    }
   ],
   "source": [
    "arr.reshape(6,2)"
   ]
  },
  {
   "cell_type": "code",
   "execution_count": 6,
   "id": "3092c12e-8278-44cc-9d14-dd53c3dd86f6",
   "metadata": {},
   "outputs": [
    {
     "data": {
      "text/plain": [
       "array([[2, 9, 7, 1, 7, 9],\n",
       "       [5, 2, 7, 5, 3, 3]])"
      ]
     },
     "execution_count": 6,
     "metadata": {},
     "output_type": "execute_result"
    }
   ],
   "source": [
    "arr.reshape(2,6)"
   ]
  },
  {
   "cell_type": "code",
   "execution_count": 7,
   "id": "efb39d23-acbe-44a3-9549-e862bb93ea35",
   "metadata": {},
   "outputs": [
    {
     "data": {
      "text/plain": [
       "array([[2, 7, 7],\n",
       "       [9, 9, 5],\n",
       "       [7, 5, 3],\n",
       "       [1, 2, 3]])"
      ]
     },
     "execution_count": 7,
     "metadata": {},
     "output_type": "execute_result"
    }
   ],
   "source": [
    "arr.T"
   ]
  },
  {
   "cell_type": "code",
   "execution_count": 8,
   "id": "62de89e5-cea8-4fa0-acc3-fdb337294c95",
   "metadata": {},
   "outputs": [
    {
     "data": {
      "text/plain": [
       "array([2, 9, 7, 1, 7, 9, 5, 2, 7, 5, 3, 3])"
      ]
     },
     "execution_count": 8,
     "metadata": {},
     "output_type": "execute_result"
    }
   ],
   "source": [
    "arr.flatten()"
   ]
  },
  {
   "cell_type": "code",
   "execution_count": 9,
   "id": "5401f8c4-438a-4d2a-bd74-29a77255862a",
   "metadata": {},
   "outputs": [],
   "source": [
    "arr1=np.array([1,2,3,3,4])"
   ]
  },
  {
   "cell_type": "code",
   "execution_count": 10,
   "id": "c0e5ccee-3692-42d6-af05-471e5dcb7168",
   "metadata": {},
   "outputs": [
    {
     "data": {
      "text/plain": [
       "1"
      ]
     },
     "execution_count": 10,
     "metadata": {},
     "output_type": "execute_result"
    }
   ],
   "source": [
    "arr1.ndim"
   ]
  },
  {
   "cell_type": "code",
   "execution_count": 11,
   "id": "91984510-f31f-42fd-98ea-5c528c2e2c12",
   "metadata": {},
   "outputs": [
    {
     "data": {
      "text/plain": [
       "array([[1],\n",
       "       [2],\n",
       "       [3],\n",
       "       [3],\n",
       "       [4]])"
      ]
     },
     "execution_count": 11,
     "metadata": {},
     "output_type": "execute_result"
    }
   ],
   "source": [
    "np.expand_dims(arr1,axis=1)"
   ]
  },
  {
   "cell_type": "code",
   "execution_count": 12,
   "id": "b638a6b2-113e-425f-a1c2-a60933b1ee65",
   "metadata": {},
   "outputs": [
    {
     "data": {
      "text/plain": [
       "array([[1, 2, 3, 3, 4]])"
      ]
     },
     "execution_count": 12,
     "metadata": {},
     "output_type": "execute_result"
    }
   ],
   "source": [
    "np.expand_dims(arr1,axis=0)"
   ]
  },
  {
   "cell_type": "code",
   "execution_count": 13,
   "id": "c379bd00-c75b-4317-9d1c-6b06c4b64b66",
   "metadata": {},
   "outputs": [
    {
     "data": {
      "text/plain": [
       "array([[2, 9, 7, 1],\n",
       "       [7, 9, 5, 2],\n",
       "       [7, 5, 3, 3]])"
      ]
     },
     "execution_count": 13,
     "metadata": {},
     "output_type": "execute_result"
    }
   ],
   "source": [
    "arr"
   ]
  },
  {
   "cell_type": "code",
   "execution_count": 14,
   "id": "2b770a3e-a13a-4320-9ca1-1504fbda8b65",
   "metadata": {},
   "outputs": [
    {
     "data": {
      "text/plain": [
       "array([[2, 9, 7, 1],\n",
       "       [7, 9, 5, 2],\n",
       "       [7, 5, 3, 3]])"
      ]
     },
     "execution_count": 14,
     "metadata": {},
     "output_type": "execute_result"
    }
   ],
   "source": [
    "np.squeeze(arr)"
   ]
  },
  {
   "cell_type": "code",
   "execution_count": 15,
   "id": "420a1a93-be34-4f0e-84c2-ce91f56aba50",
   "metadata": {},
   "outputs": [],
   "source": [
    "data=np.array([[1],[2],[3]])"
   ]
  },
  {
   "cell_type": "code",
   "execution_count": 16,
   "id": "97cd23c0-c91f-495c-aa52-434ce0f7e7f1",
   "metadata": {},
   "outputs": [
    {
     "data": {
      "text/plain": [
       "array([[1],\n",
       "       [2],\n",
       "       [3]])"
      ]
     },
     "execution_count": 16,
     "metadata": {},
     "output_type": "execute_result"
    }
   ],
   "source": [
    "data"
   ]
  },
  {
   "cell_type": "raw",
   "id": "5d08ac14-ba9b-4607-8d36-5c9f9974f06b",
   "metadata": {},
   "source": [
    "np.squeeze(data)"
   ]
  },
  {
   "cell_type": "code",
   "execution_count": 18,
   "id": "3156d1a0-28b5-4a28-a1bf-e4d03e45b2ee",
   "metadata": {},
   "outputs": [
    {
     "data": {
      "text/plain": [
       "array([1, 1, 1, 2, 2, 2, 3, 3, 3, 3, 3, 3, 4, 4, 4])"
      ]
     },
     "execution_count": 18,
     "metadata": {},
     "output_type": "execute_result"
    }
   ],
   "source": [
    "np.repeat(arr1,3)"
   ]
  },
  {
   "cell_type": "code",
   "execution_count": 20,
   "id": "d0022a07-ea8a-4b67-b23e-a883137df6cc",
   "metadata": {},
   "outputs": [
    {
     "data": {
      "text/plain": [
       "array([3, 4, 1, 2, 3])"
      ]
     },
     "execution_count": 20,
     "metadata": {},
     "output_type": "execute_result"
    }
   ],
   "source": [
    "np.roll(arr1,2)"
   ]
  },
  {
   "cell_type": "code",
   "execution_count": 21,
   "id": "205ead2a-764c-4b64-861e-17ea96bd2904",
   "metadata": {},
   "outputs": [
    {
     "data": {
      "text/plain": [
       "array([[1, 0, 0, 0, 0],\n",
       "       [0, 2, 0, 0, 0],\n",
       "       [0, 0, 3, 0, 0],\n",
       "       [0, 0, 0, 3, 0],\n",
       "       [0, 0, 0, 0, 4]])"
      ]
     },
     "execution_count": 21,
     "metadata": {},
     "output_type": "execute_result"
    }
   ],
   "source": [
    "np.diag(arr1)"
   ]
  },
  {
   "cell_type": "code",
   "execution_count": 22,
   "id": "048dd6b9-d9c1-45e9-91f2-407712083b24",
   "metadata": {},
   "outputs": [],
   "source": [
    "#Numpy -binary Opration"
   ]
  },
  {
   "cell_type": "code",
   "execution_count": 23,
   "id": "f7e39ca3-98ab-44f0-997f-5ef28ff2a0f5",
   "metadata": {},
   "outputs": [],
   "source": [
    "arr1=np.random.randint(1,10,(3,4))\n",
    "arr2=np.random.randint(1,10,(3,4))"
   ]
  },
  {
   "cell_type": "code",
   "execution_count": 24,
   "id": "89693982-610c-4276-97a5-53921cca6dad",
   "metadata": {},
   "outputs": [
    {
     "data": {
      "text/plain": [
       "array([[8, 4, 1, 6],\n",
       "       [9, 1, 7, 5],\n",
       "       [1, 1, 9, 7]])"
      ]
     },
     "execution_count": 24,
     "metadata": {},
     "output_type": "execute_result"
    }
   ],
   "source": [
    "arr1"
   ]
  },
  {
   "cell_type": "code",
   "execution_count": 25,
   "id": "6440b3b3-4687-49f8-9c25-fa2849264183",
   "metadata": {},
   "outputs": [
    {
     "data": {
      "text/plain": [
       "array([[2, 4, 4, 1],\n",
       "       [4, 5, 2, 5],\n",
       "       [3, 4, 5, 6]])"
      ]
     },
     "execution_count": 25,
     "metadata": {},
     "output_type": "execute_result"
    }
   ],
   "source": [
    "arr2"
   ]
  },
  {
   "cell_type": "code",
   "execution_count": 26,
   "id": "4b540cbf-b1b9-4758-b733-99db4e975f05",
   "metadata": {},
   "outputs": [
    {
     "data": {
      "text/plain": [
       "array([[10,  8,  5,  7],\n",
       "       [13,  6,  9, 10],\n",
       "       [ 4,  5, 14, 13]])"
      ]
     },
     "execution_count": 26,
     "metadata": {},
     "output_type": "execute_result"
    }
   ],
   "source": [
    "arr1+arr2"
   ]
  },
  {
   "cell_type": "code",
   "execution_count": 27,
   "id": "72b93940-c52a-45aa-8c6e-b3ab0e47c59e",
   "metadata": {},
   "outputs": [],
   "source": [
    "#Numpy -String Function"
   ]
  },
  {
   "cell_type": "code",
   "execution_count": 29,
   "id": "24092488-f31e-445e-a5b4-640d623d4acc",
   "metadata": {},
   "outputs": [],
   "source": [
    "arr=np.array([\"suraj\",\"sandhya\"])"
   ]
  },
  {
   "cell_type": "code",
   "execution_count": 30,
   "id": "4dac7e70-2b2d-4699-a41a-7d2dd83789cf",
   "metadata": {},
   "outputs": [
    {
     "data": {
      "text/plain": [
       "array(['SURAJ', 'SANDHYA'], dtype='<U7')"
      ]
     },
     "execution_count": 30,
     "metadata": {},
     "output_type": "execute_result"
    }
   ],
   "source": [
    "np.char.upper(arr)"
   ]
  },
  {
   "cell_type": "code",
   "execution_count": 31,
   "id": "dfb5be50-2cd5-465b-a565-28bea888c25e",
   "metadata": {},
   "outputs": [
    {
     "data": {
      "text/plain": [
       "array(['Suraj', 'Sandhya'], dtype='<U7')"
      ]
     },
     "execution_count": 31,
     "metadata": {},
     "output_type": "execute_result"
    }
   ],
   "source": [
    "np.char.title(arr)"
   ]
  },
  {
   "cell_type": "code",
   "execution_count": 32,
   "id": "73b450fc-f1bf-4afd-adc6-34b591dd14bf",
   "metadata": {},
   "outputs": [],
   "source": [
    "#Numpy -Mathematical Function."
   ]
  },
  {
   "cell_type": "code",
   "execution_count": 33,
   "id": "10d516d0-c47c-400e-a797-5ba942232735",
   "metadata": {},
   "outputs": [
    {
     "data": {
      "text/plain": [
       "array([[8, 4, 1, 6],\n",
       "       [9, 1, 7, 5],\n",
       "       [1, 1, 9, 7]])"
      ]
     },
     "execution_count": 33,
     "metadata": {},
     "output_type": "execute_result"
    }
   ],
   "source": [
    "arr1"
   ]
  },
  {
   "cell_type": "code",
   "execution_count": 34,
   "id": "e3561b33-ffa0-4b94-ab1f-79a437528678",
   "metadata": {},
   "outputs": [
    {
     "data": {
      "text/plain": [
       "array([[ 0.98935825, -0.7568025 ,  0.84147098, -0.2794155 ],\n",
       "       [ 0.41211849,  0.84147098,  0.6569866 , -0.95892427],\n",
       "       [ 0.84147098,  0.84147098,  0.41211849,  0.6569866 ]])"
      ]
     },
     "execution_count": 34,
     "metadata": {},
     "output_type": "execute_result"
    }
   ],
   "source": [
    "np.sin(arr1)"
   ]
  },
  {
   "cell_type": "code",
   "execution_count": 35,
   "id": "1df7d2df-b2ef-49d5-8d32-af9e2d854a38",
   "metadata": {},
   "outputs": [
    {
     "data": {
      "text/plain": [
       "array([[-0.14550003, -0.65364362,  0.54030231,  0.96017029],\n",
       "       [-0.91113026,  0.54030231,  0.75390225,  0.28366219],\n",
       "       [ 0.54030231,  0.54030231, -0.91113026,  0.75390225]])"
      ]
     },
     "execution_count": 35,
     "metadata": {},
     "output_type": "execute_result"
    }
   ],
   "source": [
    "np.cos(arr1)"
   ]
  },
  {
   "cell_type": "code",
   "execution_count": 36,
   "id": "d74bb8fb-b10c-4c9a-9981-837ac250e164",
   "metadata": {},
   "outputs": [
    {
     "data": {
      "text/plain": [
       "array([[-6.79971146,  1.15782128,  1.55740772, -0.29100619],\n",
       "       [-0.45231566,  1.55740772,  0.87144798, -3.38051501],\n",
       "       [ 1.55740772,  1.55740772, -0.45231566,  0.87144798]])"
      ]
     },
     "execution_count": 36,
     "metadata": {},
     "output_type": "execute_result"
    }
   ],
   "source": [
    "np.tan(arr1)"
   ]
  },
  {
   "cell_type": "code",
   "execution_count": 37,
   "id": "9215cc04-b71c-48fb-8173-c3d2dd897dd0",
   "metadata": {},
   "outputs": [
    {
     "data": {
      "text/plain": [
       "array([[0.99999977, 0.9993293 , 0.76159416, 0.99998771],\n",
       "       [0.99999997, 0.76159416, 0.99999834, 0.9999092 ],\n",
       "       [0.76159416, 0.76159416, 0.99999997, 0.99999834]])"
      ]
     },
     "execution_count": 37,
     "metadata": {},
     "output_type": "execute_result"
    }
   ],
   "source": [
    "np.tanh(arr1)"
   ]
  },
  {
   "cell_type": "code",
   "execution_count": 38,
   "id": "d34a2871-ad86-4beb-9633-12c9c50f29f1",
   "metadata": {},
   "outputs": [
    {
     "data": {
      "text/plain": [
       "array([[2.07944154, 1.38629436, 0.        , 1.79175947],\n",
       "       [2.19722458, 0.        , 1.94591015, 1.60943791],\n",
       "       [0.        , 0.        , 2.19722458, 1.94591015]])"
      ]
     },
     "execution_count": 38,
     "metadata": {},
     "output_type": "execute_result"
    }
   ],
   "source": [
    "np.log(arr1)"
   ]
  },
  {
   "cell_type": "code",
   "execution_count": 39,
   "id": "d1fc21d6-1823-4234-9243-09a850cd14ca",
   "metadata": {},
   "outputs": [
    {
     "data": {
      "text/plain": [
       "array([[2.98095799e+03, 5.45981500e+01, 2.71828183e+00, 4.03428793e+02],\n",
       "       [8.10308393e+03, 2.71828183e+00, 1.09663316e+03, 1.48413159e+02],\n",
       "       [2.71828183e+00, 2.71828183e+00, 8.10308393e+03, 1.09663316e+03]])"
      ]
     },
     "execution_count": 39,
     "metadata": {},
     "output_type": "execute_result"
    }
   ],
   "source": [
    "np.exp(arr1)"
   ]
  },
  {
   "cell_type": "code",
   "execution_count": 40,
   "id": "10875b66-e89e-4354-b8e2-f8600585c7bb",
   "metadata": {},
   "outputs": [
    {
     "data": {
      "text/plain": [
       "array([[0.90308999, 0.60205999, 0.        , 0.77815125],\n",
       "       [0.95424251, 0.        , 0.84509804, 0.69897   ],\n",
       "       [0.        , 0.        , 0.95424251, 0.84509804]])"
      ]
     },
     "execution_count": 40,
     "metadata": {},
     "output_type": "execute_result"
    }
   ],
   "source": [
    "np.log10(arr1)"
   ]
  },
  {
   "cell_type": "code",
   "execution_count": 41,
   "id": "a302adfc-97b8-40da-9c6c-deecfc67ced1",
   "metadata": {},
   "outputs": [
    {
     "data": {
      "text/plain": [
       "array([[2.82842712, 2.        , 1.        , 2.44948974],\n",
       "       [3.        , 1.        , 2.64575131, 2.23606798],\n",
       "       [1.        , 1.        , 3.        , 2.64575131]])"
      ]
     },
     "execution_count": 41,
     "metadata": {},
     "output_type": "execute_result"
    }
   ],
   "source": [
    "np.sqrt(arr1)"
   ]
  },
  {
   "cell_type": "code",
   "execution_count": 42,
   "id": "b53a36ae-591e-4d6f-a518-1fdb67ed979c",
   "metadata": {},
   "outputs": [
    {
     "data": {
      "text/plain": [
       "array([[64, 16,  1, 36],\n",
       "       [81,  1, 49, 25],\n",
       "       [ 1,  1, 81, 49]])"
      ]
     },
     "execution_count": 42,
     "metadata": {},
     "output_type": "execute_result"
    }
   ],
   "source": [
    "np.power(arr1,2)"
   ]
  },
  {
   "cell_type": "code",
   "execution_count": 43,
   "id": "39ee7f36-6973-4382-bcfc-697dc45f54f6",
   "metadata": {},
   "outputs": [
    {
     "data": {
      "text/plain": [
       "4.916666666666667"
      ]
     },
     "execution_count": 43,
     "metadata": {},
     "output_type": "execute_result"
    }
   ],
   "source": [
    "np.mean(arr1)"
   ]
  },
  {
   "cell_type": "code",
   "execution_count": null,
   "id": "5f00cc46-24bb-4a78-a9f6-af4a21e7e404",
   "metadata": {},
   "outputs": [],
   "source": []
  },
  {
   "cell_type": "code",
   "execution_count": 44,
   "id": "3c597311-62a4-4fa0-8e78-2c32f1e691fe",
   "metadata": {},
   "outputs": [
    {
     "data": {
      "text/plain": [
       "3.0945741046045234"
      ]
     },
     "execution_count": 44,
     "metadata": {},
     "output_type": "execute_result"
    }
   ],
   "source": [
    "np.std(arr1)"
   ]
  },
  {
   "cell_type": "code",
   "execution_count": null,
   "id": "64090959-d0c5-4c34-bb16-16e71b3f408c",
   "metadata": {},
   "outputs": [],
   "source": []
  },
  {
   "cell_type": "code",
   "execution_count": null,
   "id": "c8f26a8b-25bb-491f-aefc-85447ecf8c08",
   "metadata": {},
   "outputs": [],
   "source": []
  }
 ],
 "metadata": {
  "kernelspec": {
   "display_name": "Python 3 (ipykernel)",
   "language": "python",
   "name": "python3"
  },
  "language_info": {
   "codemirror_mode": {
    "name": "ipython",
    "version": 3
   },
   "file_extension": ".py",
   "mimetype": "text/x-python",
   "name": "python",
   "nbconvert_exporter": "python",
   "pygments_lexer": "ipython3",
   "version": "3.10.6"
  }
 },
 "nbformat": 4,
 "nbformat_minor": 5
}

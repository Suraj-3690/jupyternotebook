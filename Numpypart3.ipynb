{
 "cells": [
  {
   "cell_type": "code",
   "execution_count": 1,
   "id": "2800a237-fd40-4a50-aeac-b188f59ff331",
   "metadata": {},
   "outputs": [],
   "source": [
    "# Sort, Search & Counting Function."
   ]
  },
  {
   "cell_type": "code",
   "execution_count": 2,
   "id": "6e1367a6-0279-42cf-b4f8-e1d6ce96449a",
   "metadata": {},
   "outputs": [],
   "source": [
    "import numpy as np"
   ]
  },
  {
   "cell_type": "code",
   "execution_count": 3,
   "id": "8770ebd3-7c7e-4e1e-ab98-17293df61cd9",
   "metadata": {},
   "outputs": [],
   "source": [
    "arr=np.array([4,6,7,77,5,0,5,44,23,55,98,65])"
   ]
  },
  {
   "cell_type": "code",
   "execution_count": 4,
   "id": "ffb02243-faaf-4b1b-a71b-6e57b68978fa",
   "metadata": {},
   "outputs": [
    {
     "data": {
      "text/plain": [
       "array([ 4,  6,  7, 77,  5,  0,  5, 44, 23, 55, 98, 65])"
      ]
     },
     "execution_count": 4,
     "metadata": {},
     "output_type": "execute_result"
    }
   ],
   "source": [
    "arr"
   ]
  },
  {
   "cell_type": "code",
   "execution_count": 6,
   "id": "b87ad166-1653-46dc-aa1f-8dfc691ed855",
   "metadata": {},
   "outputs": [
    {
     "data": {
      "text/plain": [
       "array([ 0,  4,  5,  5,  6,  7, 23, 44, 55, 65, 77, 98])"
      ]
     },
     "execution_count": 6,
     "metadata": {},
     "output_type": "execute_result"
    }
   ],
   "source": [
    "np.sort(arr)"
   ]
  },
  {
   "cell_type": "code",
   "execution_count": 7,
   "id": "1b252310-894e-4c00-8950-350c1bbcf776",
   "metadata": {},
   "outputs": [
    {
     "data": {
      "text/plain": [
       "12"
      ]
     },
     "execution_count": 7,
     "metadata": {},
     "output_type": "execute_result"
    }
   ],
   "source": [
    "np.searchsorted(arr,79)"
   ]
  },
  {
   "cell_type": "code",
   "execution_count": 8,
   "id": "883eb7c3-0906-49d3-9df8-58ee8bf16adf",
   "metadata": {},
   "outputs": [],
   "source": [
    "arr1=np.array([0,345,454,0,0,0,0])"
   ]
  },
  {
   "cell_type": "code",
   "execution_count": 9,
   "id": "0e69562b-72cd-4162-9a47-b6a2cd8e22cf",
   "metadata": {},
   "outputs": [
    {
     "data": {
      "text/plain": [
       "2"
      ]
     },
     "execution_count": 9,
     "metadata": {},
     "output_type": "execute_result"
    }
   ],
   "source": [
    "np.count_nonzero(arr1)"
   ]
  },
  {
   "cell_type": "code",
   "execution_count": 10,
   "id": "98a0e57b-12f3-4860-9160-8120e846dce8",
   "metadata": {},
   "outputs": [
    {
     "data": {
      "text/plain": [
       "array([ 4,  6,  7, 77,  5,  0,  5, 44, 23, 55, 98, 65])"
      ]
     },
     "execution_count": 10,
     "metadata": {},
     "output_type": "execute_result"
    }
   ],
   "source": [
    "arr"
   ]
  },
  {
   "cell_type": "code",
   "execution_count": 11,
   "id": "4ee37756-00d7-4f86-971b-c440b65b272a",
   "metadata": {},
   "outputs": [
    {
     "data": {
      "text/plain": [
       "(array([ 2,  3,  7,  8,  9, 10, 11]),)"
      ]
     },
     "execution_count": 11,
     "metadata": {},
     "output_type": "execute_result"
    }
   ],
   "source": [
    "np.where(arr>6)"
   ]
  },
  {
   "cell_type": "code",
   "execution_count": 12,
   "id": "a49646bd-0c28-460f-a350-0d6840941c69",
   "metadata": {},
   "outputs": [
    {
     "data": {
      "text/plain": [
       "array([ 4,  6,  7, 77,  5,  5, 44, 23, 55, 98, 65])"
      ]
     },
     "execution_count": 12,
     "metadata": {},
     "output_type": "execute_result"
    }
   ],
   "source": [
    "np.extract(arr>3,arr)"
   ]
  },
  {
   "cell_type": "code",
   "execution_count": 13,
   "id": "3930e70c-7f2f-456f-b72e-f22f37d4e280",
   "metadata": {},
   "outputs": [],
   "source": [
    "#Numpy -Byte Swaping\n"
   ]
  },
  {
   "cell_type": "code",
   "execution_count": 14,
   "id": "69fdeafd-187d-4014-97a0-f2b62a1e6441",
   "metadata": {},
   "outputs": [
    {
     "data": {
      "text/plain": [
       "array([ 4,  6,  7, 77,  5,  0,  5, 44, 23, 55, 98, 65])"
      ]
     },
     "execution_count": 14,
     "metadata": {},
     "output_type": "execute_result"
    }
   ],
   "source": [
    "arr"
   ]
  },
  {
   "cell_type": "code",
   "execution_count": 15,
   "id": "0891e408-9839-4825-bb46-3bf01ad397e2",
   "metadata": {},
   "outputs": [
    {
     "data": {
      "text/plain": [
       "array([ 288230376151711744,  432345564227567616,  504403158265495552,\n",
       "       5548434740920451072,  360287970189639680,                   0,\n",
       "        360287970189639680, 3170534137668829184, 1657324662872342528,\n",
       "       3963167672086036480, 7061644215716937728, 4683743612465315840])"
      ]
     },
     "execution_count": 15,
     "metadata": {},
     "output_type": "execute_result"
    }
   ],
   "source": [
    "arr.byteswap()"
   ]
  },
  {
   "cell_type": "code",
   "execution_count": 16,
   "id": "70fba2fe-e2ff-45ef-b09f-ac63544e3a45",
   "metadata": {},
   "outputs": [],
   "source": [
    "#Numpy - Copy-& Views."
   ]
  },
  {
   "cell_type": "code",
   "execution_count": 17,
   "id": "082611f4-f419-4786-ad86-3c19b6467739",
   "metadata": {},
   "outputs": [
    {
     "data": {
      "text/plain": [
       "array([ 4,  6,  7, 77,  5,  0,  5, 44, 23, 55, 98, 65])"
      ]
     },
     "execution_count": 17,
     "metadata": {},
     "output_type": "execute_result"
    }
   ],
   "source": [
    "arr"
   ]
  },
  {
   "cell_type": "code",
   "execution_count": 18,
   "id": "a5eabde7-244d-40f8-b2dd-6bd31cb4ab63",
   "metadata": {},
   "outputs": [],
   "source": [
    "a=np.copy(arr)"
   ]
  },
  {
   "cell_type": "code",
   "execution_count": 20,
   "id": "4713a1b9-ad8d-4fac-a8ff-5c6c2771f8a0",
   "metadata": {},
   "outputs": [
    {
     "data": {
      "text/plain": [
       "array([ 4,  6,  7, 77,  5,  0,  5, 44, 23, 55, 98, 65])"
      ]
     },
     "execution_count": 20,
     "metadata": {},
     "output_type": "execute_result"
    }
   ],
   "source": [
    "a"
   ]
  },
  {
   "cell_type": "code",
   "execution_count": 25,
   "id": "850c9440-9d73-487a-b9d1-f628bd0f72e0",
   "metadata": {},
   "outputs": [],
   "source": [
    "b=arr.view()"
   ]
  },
  {
   "cell_type": "code",
   "execution_count": 26,
   "id": "46ddb2e6-5869-40ed-aadb-62b27ad5c298",
   "metadata": {},
   "outputs": [
    {
     "data": {
      "text/plain": [
       "array([67,  6,  7, 77,  5,  0,  5, 44, 23, 55, 98, 65])"
      ]
     },
     "execution_count": 26,
     "metadata": {},
     "output_type": "execute_result"
    }
   ],
   "source": [
    "b"
   ]
  },
  {
   "cell_type": "code",
   "execution_count": 27,
   "id": "016ce077-3cb7-4ec2-a68f-739b4e9ee446",
   "metadata": {},
   "outputs": [
    {
     "data": {
      "text/plain": [
       "array([67,  6,  7, 77,  5,  0,  5, 44, 23, 55, 98, 65])"
      ]
     },
     "execution_count": 27,
     "metadata": {},
     "output_type": "execute_result"
    }
   ],
   "source": [
    "arr"
   ]
  },
  {
   "cell_type": "code",
   "execution_count": 28,
   "id": "f6460157-2870-4179-be78-f2c512b5cc65",
   "metadata": {},
   "outputs": [],
   "source": [
    "# Numpy - matrix Library"
   ]
  },
  {
   "cell_type": "code",
   "execution_count": 29,
   "id": "1323acdb-13eb-4291-b1e9-b14a0a5f9b60",
   "metadata": {},
   "outputs": [],
   "source": [
    "import numpy.matlib as nm"
   ]
  },
  {
   "cell_type": "code",
   "execution_count": 30,
   "id": "e43bfba0-ee7a-4498-b7ea-450bcab11fca",
   "metadata": {},
   "outputs": [
    {
     "data": {
      "text/plain": [
       "matrix([[0., 0., 0., 0., 0.]])"
      ]
     },
     "execution_count": 30,
     "metadata": {},
     "output_type": "execute_result"
    }
   ],
   "source": [
    "nm.zeros(5)"
   ]
  },
  {
   "cell_type": "code",
   "execution_count": 31,
   "id": "1798111a-0002-41f9-81a8-e0c3e1f565de",
   "metadata": {},
   "outputs": [
    {
     "data": {
      "text/plain": [
       "matrix([[1., 1., 1., 1.],\n",
       "        [1., 1., 1., 1.],\n",
       "        [1., 1., 1., 1.]])"
      ]
     },
     "execution_count": 31,
     "metadata": {},
     "output_type": "execute_result"
    }
   ],
   "source": [
    "nm.ones((3,4))"
   ]
  },
  {
   "cell_type": "code",
   "execution_count": 32,
   "id": "4c8248d3-7054-4b96-acef-c81f98936051",
   "metadata": {},
   "outputs": [
    {
     "data": {
      "text/plain": [
       "matrix([[1., 0., 0., 0., 0.],\n",
       "        [0., 1., 0., 0., 0.],\n",
       "        [0., 0., 1., 0., 0.],\n",
       "        [0., 0., 0., 1., 0.],\n",
       "        [0., 0., 0., 0., 1.]])"
      ]
     },
     "execution_count": 32,
     "metadata": {},
     "output_type": "execute_result"
    }
   ],
   "source": [
    "nm.eye(5)"
   ]
  },
  {
   "cell_type": "code",
   "execution_count": 33,
   "id": "345b5a98-3250-49b6-ae21-9366f51ffc54",
   "metadata": {},
   "outputs": [],
   "source": [
    "# Nunpy- Linear Algebra "
   ]
  },
  {
   "cell_type": "code",
   "execution_count": 34,
   "id": "1799c820-6a66-4d0a-ba47-0b4166e369e2",
   "metadata": {},
   "outputs": [],
   "source": [
    "arr1=np.random.randint([[2,3],[4,5]])\n",
    "arr2=np.random.randint([[5,3],[2,5]])"
   ]
  },
  {
   "cell_type": "code",
   "execution_count": 35,
   "id": "59b5f61a-9a7d-45eb-a90c-e94c80e0bc14",
   "metadata": {},
   "outputs": [
    {
     "data": {
      "text/plain": [
       "array([[3, 2],\n",
       "       [9, 8]])"
      ]
     },
     "execution_count": 35,
     "metadata": {},
     "output_type": "execute_result"
    }
   ],
   "source": [
    "np.dot(arr1,arr2)"
   ]
  },
  {
   "cell_type": "code",
   "execution_count": 36,
   "id": "8f9aebef-7cd7-429a-9ee1-aea31a35fbad",
   "metadata": {},
   "outputs": [
    {
     "data": {
      "text/plain": [
       "array([[3, 2],\n",
       "       [9, 8]])"
      ]
     },
     "execution_count": 36,
     "metadata": {},
     "output_type": "execute_result"
    }
   ],
   "source": [
    "arr1@arr2"
   ]
  },
  {
   "cell_type": "code",
   "execution_count": null,
   "id": "a8abc451-56ef-4b08-865e-67033579a831",
   "metadata": {},
   "outputs": [],
   "source": []
  }
 ],
 "metadata": {
  "kernelspec": {
   "display_name": "Python 3 (ipykernel)",
   "language": "python",
   "name": "python3"
  },
  "language_info": {
   "codemirror_mode": {
    "name": "ipython",
    "version": 3
   },
   "file_extension": ".py",
   "mimetype": "text/x-python",
   "name": "python",
   "nbconvert_exporter": "python",
   "pygments_lexer": "ipython3",
   "version": "3.10.6"
  }
 },
 "nbformat": 4,
 "nbformat_minor": 5
}
